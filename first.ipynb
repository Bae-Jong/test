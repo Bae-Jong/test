{
 "cells": [
  {
   "cell_type": "markdown",
   "metadata": {},
   "source": [
    "큰 제목\n",
    "========"
   ]
  },
  {
   "cell_type": "markdown",
   "metadata": {},
   "source": [
    "작은 제목\n",
    "---"
   ]
  },
  {
   "cell_type": "markdown",
   "metadata": {},
   "source": [
    "# 1. 목록"
   ]
  },
  {
   "cell_type": "markdown",
   "metadata": {},
   "source": [
    "# 글머리1\n",
    "## 글머리2\n",
    "### 글머리3\n",
    "#### 글머리4\n",
    "##### 글머리5\n",
    "###### 글머리6\n",
    "####### 글머리7"
   ]
  },
  {
   "cell_type": "markdown",
   "metadata": {},
   "source": [
    "1. 첫번쨰\n",
    "2. 두번쨰\n",
    "3. 세번쨰"
   ]
  },
  {
   "cell_type": "markdown",
   "metadata": {},
   "source": [
    "* 첫번째\n",
    "* 두번째\n",
    "* 세번쨰"
   ]
  },
  {
   "cell_type": "markdown",
   "metadata": {},
   "source": [
    "* １st\n",
    "  * 2nd\n",
    "    * 3rd\n",
    "  * 2nd*\n",
    "    * 3rd*"
   ]
  },
  {
   "cell_type": "markdown",
   "metadata": {},
   "source": [
    "```python\n",
    "printf(\"HEllo World\");\n",
    "return o;\n",
    "```"
   ]
  },
  {
   "cell_type": "markdown",
   "metadata": {},
   "source": [
    "<링크>\n",
    "링크 바로 붙여넣으면 됨"
   ]
  },
  {
   "cell_type": "markdown",
   "metadata": {},
   "source": [
    "pdf 변환 툴, 표 작성 등 다른 기능 존재"
   ]
  },
  {
   "cell_type": "markdown",
   "metadata": {},
   "source": [
    "여기까지가 설정 및 마크다운 개념에 대한 설명."
   ]
  },
  {
   "cell_type": "markdown",
   "metadata": {},
   "source": []
  }
 ],
 "metadata": {
  "kernelspec": {
   "display_name": "Python 3.7.13 ('virtual1')",
   "language": "python",
   "name": "python3"
  },
  "language_info": {
   "codemirror_mode": {
    "name": "ipython",
    "version": 3
   },
   "file_extension": ".py",
   "mimetype": "text/x-python",
   "name": "python",
   "nbconvert_exporter": "python",
   "pygments_lexer": "ipython3",
   "version": "3.7.13"
  },
  "orig_nbformat": 4,
  "vscode": {
   "interpreter": {
    "hash": "647a62627cb94dfade5d59af8c8be9ca2a8e84666f78e1fb5f42398bab79f847"
   }
  }
 },
 "nbformat": 4,
 "nbformat_minor": 2
}
